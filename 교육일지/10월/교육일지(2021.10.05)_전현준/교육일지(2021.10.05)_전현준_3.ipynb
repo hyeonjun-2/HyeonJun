{
 "cells": [
  {
   "cell_type": "markdown",
   "source": [
    "# 머신러닝 기초\r\n",
    "\r\n",
    "1. Data 준비\r\n",
    "2. 데이터 탐색\r\n",
    "   - `info()`메소드로 데이터의 자료형과 개수를 확인\r\n",
    "   - `describe()`메소드로 주요 통계 정보 확인\r\n",
    "3. 데이터 전처리\r\n",
    "   - 누락 데이터 처리 (NaN 데이터 처리)\r\n",
    "   - 문자 데이터를 숫자로 원핫 인코딩\r\n",
    "   - 정규화  \r\n",
    "4. 속성 선택\r\n",
    "   - 회귀 분석에 변수로 사용할 후보 열을 선택\r\n",
    "5. 훈련/ 검증 데이터 분할\r\n",
    "6. 모델 학습 및 검증\r\n",
    "   - 모델 결과로 목표 값과 예측 값 비교 \r\n",
    "   - 시각화\r\n"
   ],
   "metadata": {}
  },
  {
   "cell_type": "code",
   "execution_count": 1,
   "source": [
    "import pandas as pd\r\n",
    "import numpy as np\r\n",
    "import matplotlib.pyplot as plt\r\n",
    "import seaborn as sns"
   ],
   "outputs": [],
   "metadata": {}
  },
  {
   "cell_type": "code",
   "execution_count": 4,
   "source": [
    "df = pd.read_csv('auto-mpg.csv', header=None)\r\n",
    "df.head()"
   ],
   "outputs": [
    {
     "output_type": "execute_result",
     "data": {
      "text/html": [
       "<div>\n",
       "<style scoped>\n",
       "    .dataframe tbody tr th:only-of-type {\n",
       "        vertical-align: middle;\n",
       "    }\n",
       "\n",
       "    .dataframe tbody tr th {\n",
       "        vertical-align: top;\n",
       "    }\n",
       "\n",
       "    .dataframe thead th {\n",
       "        text-align: right;\n",
       "    }\n",
       "</style>\n",
       "<table border=\"1\" class=\"dataframe\">\n",
       "  <thead>\n",
       "    <tr style=\"text-align: right;\">\n",
       "      <th></th>\n",
       "      <th>0</th>\n",
       "      <th>1</th>\n",
       "      <th>2</th>\n",
       "      <th>3</th>\n",
       "      <th>4</th>\n",
       "      <th>5</th>\n",
       "      <th>6</th>\n",
       "      <th>7</th>\n",
       "      <th>8</th>\n",
       "    </tr>\n",
       "  </thead>\n",
       "  <tbody>\n",
       "    <tr>\n",
       "      <th>0</th>\n",
       "      <td>18.0</td>\n",
       "      <td>8</td>\n",
       "      <td>307.0</td>\n",
       "      <td>130.0</td>\n",
       "      <td>3504.0</td>\n",
       "      <td>12.0</td>\n",
       "      <td>70</td>\n",
       "      <td>1</td>\n",
       "      <td>chevrolet chevelle malibu</td>\n",
       "    </tr>\n",
       "    <tr>\n",
       "      <th>1</th>\n",
       "      <td>15.0</td>\n",
       "      <td>8</td>\n",
       "      <td>350.0</td>\n",
       "      <td>165.0</td>\n",
       "      <td>3693.0</td>\n",
       "      <td>11.5</td>\n",
       "      <td>70</td>\n",
       "      <td>1</td>\n",
       "      <td>buick skylark 320</td>\n",
       "    </tr>\n",
       "    <tr>\n",
       "      <th>2</th>\n",
       "      <td>18.0</td>\n",
       "      <td>8</td>\n",
       "      <td>318.0</td>\n",
       "      <td>150.0</td>\n",
       "      <td>3436.0</td>\n",
       "      <td>11.0</td>\n",
       "      <td>70</td>\n",
       "      <td>1</td>\n",
       "      <td>plymouth satellite</td>\n",
       "    </tr>\n",
       "    <tr>\n",
       "      <th>3</th>\n",
       "      <td>16.0</td>\n",
       "      <td>8</td>\n",
       "      <td>304.0</td>\n",
       "      <td>150.0</td>\n",
       "      <td>3433.0</td>\n",
       "      <td>12.0</td>\n",
       "      <td>70</td>\n",
       "      <td>1</td>\n",
       "      <td>amc rebel sst</td>\n",
       "    </tr>\n",
       "    <tr>\n",
       "      <th>4</th>\n",
       "      <td>17.0</td>\n",
       "      <td>8</td>\n",
       "      <td>302.0</td>\n",
       "      <td>140.0</td>\n",
       "      <td>3449.0</td>\n",
       "      <td>10.5</td>\n",
       "      <td>70</td>\n",
       "      <td>1</td>\n",
       "      <td>ford torino</td>\n",
       "    </tr>\n",
       "  </tbody>\n",
       "</table>\n",
       "</div>"
      ],
      "text/plain": [
       "      0  1      2      3       4     5   6  7                          8\n",
       "0  18.0  8  307.0  130.0  3504.0  12.0  70  1  chevrolet chevelle malibu\n",
       "1  15.0  8  350.0  165.0  3693.0  11.5  70  1          buick skylark 320\n",
       "2  18.0  8  318.0  150.0  3436.0  11.0  70  1         plymouth satellite\n",
       "3  16.0  8  304.0  150.0  3433.0  12.0  70  1              amc rebel sst\n",
       "4  17.0  8  302.0  140.0  3449.0  10.5  70  1                ford torino"
      ]
     },
     "metadata": {},
     "execution_count": 4
    }
   ],
   "metadata": {}
  },
  {
   "cell_type": "code",
   "execution_count": 5,
   "source": [
    "df.columns = ['mpg','cylinders','displacement','horsepower','weight',\r\n",
    "              'acceleration','model year','origin','name'] \r\n",
    "df.horsepower.unique() "
   ],
   "outputs": [
    {
     "output_type": "execute_result",
     "data": {
      "text/plain": [
       "array(['130.0', '165.0', '150.0', '140.0', '198.0', '220.0', '215.0',\n",
       "       '225.0', '190.0', '170.0', '160.0', '95.00', '97.00', '85.00',\n",
       "       '88.00', '46.00', '87.00', '90.00', '113.0', '200.0', '210.0',\n",
       "       '193.0', '?', '100.0', '105.0', '175.0', '153.0', '180.0', '110.0',\n",
       "       '72.00', '86.00', '70.00', '76.00', '65.00', '69.00', '60.00',\n",
       "       '80.00', '54.00', '208.0', '155.0', '112.0', '92.00', '145.0',\n",
       "       '137.0', '158.0', '167.0', '94.00', '107.0', '230.0', '49.00',\n",
       "       '75.00', '91.00', '122.0', '67.00', '83.00', '78.00', '52.00',\n",
       "       '61.00', '93.00', '148.0', '129.0', '96.00', '71.00', '98.00',\n",
       "       '115.0', '53.00', '81.00', '79.00', '120.0', '152.0', '102.0',\n",
       "       '108.0', '68.00', '58.00', '149.0', '89.00', '63.00', '48.00',\n",
       "       '66.00', '139.0', '103.0', '125.0', '133.0', '138.0', '135.0',\n",
       "       '142.0', '77.00', '62.00', '132.0', '84.00', '64.00', '74.00',\n",
       "       '116.0', '82.00'], dtype=object)"
      ]
     },
     "metadata": {},
     "execution_count": 5
    }
   ],
   "metadata": {}
  },
  {
   "cell_type": "code",
   "execution_count": 6,
   "source": [
    "# horsepower 열의 자료형 변경 (문자열 ->숫자)\r\n",
    "df['horsepower'].replace('?', np.nan, inplace=True)      # '?'을 np.nan으로 변경\r\n",
    "df.dropna(subset=['horsepower'], axis=0, inplace=True)   # 누락데이터 행을 삭제\r\n",
    "df['horsepower'] = df['horsepower'].astype('float')      # 문자열을 실수형으로 변환\r\n"
   ],
   "outputs": [],
   "metadata": {}
  },
  {
   "cell_type": "code",
   "execution_count": 7,
   "source": [
    "\r\n",
    "# 분석에 활용할 열(속성)을 선택 (연비, 실린더, 출력, 중량)\r\n",
    "ndf = df[['mpg', 'cylinders', 'horsepower', 'weight']]\r\n",
    "\r\n",
    "# ndf 데이터를 train data 와 test data로 구분(7:3 비율)\r\n",
    "X=ndf[['cylinders', 'horsepower']]  #독립 변수 X    (2차원 배열인 경우가 많다)\r\n",
    "y=ndf['mpg']     #종속 변수 Y\r\n"
   ],
   "outputs": [],
   "metadata": {}
  },
  {
   "cell_type": "code",
   "execution_count": 8,
   "source": [
    "# train data 와 test data로 구분(7:3 비율)\r\n",
    "# 1.train과 typese\r\n",
    "from sklearn.model_selection import train_test_split\r\n",
    "X_train, X_test, y_train, y_test = train_test_split(X, y,\r\n",
    "                                                    test_size=0.3, random_state=10) \r\n",
    "\r\n",
    "print('훈련 데이터: ', X_train.shape)\r\n",
    "print('검증 데이터: ', X_test.shape)   \r\n",
    "print('\\n')\r\n",
    "print(\"종속 데이터 : \",y_train.shape)\r\n",
    "\r\n"
   ],
   "outputs": [
    {
     "output_type": "stream",
     "name": "stdout",
     "text": [
      "훈련 데이터:  (274, 2)\n",
      "검증 데이터:  (118, 2)\n",
      "\n",
      "\n",
      "종속 데이터 :  (274,)\n"
     ]
    }
   ],
   "metadata": {}
  },
  {
   "cell_type": "code",
   "execution_count": 9,
   "source": [
    "# sklearn 라이브러리에서 필요한 모듈 가져오기 \r\n",
    "from sklearn.linear_model import LinearRegression      #선형회귀분석\r\n",
    "from sklearn.preprocessing import PolynomialFeatures   #다항식 변환 \r\n",
    "\r\n",
    "# 다항식 변환 \r\n",
    "poly = PolynomialFeatures(degree=2)               #2차항 적용\r\n",
    "X_train_poly=poly.fit_transform(X_train)     #X_train 데이터를 2차항으로 변형\r\n",
    "\r\n",
    "print('원 데이터: ', X_train.shape)\r\n",
    "print('2차항 변환 데이터: ', X_train_poly.shape)  \r\n",
    "print('\\n')"
   ],
   "outputs": [
    {
     "output_type": "stream",
     "name": "stdout",
     "text": [
      "원 데이터:  (274, 2)\n",
      "2차항 변환 데이터:  (274, 6)\n",
      "\n",
      "\n"
     ]
    }
   ],
   "metadata": {}
  },
  {
   "cell_type": "code",
   "execution_count": 10,
   "source": [
    "# train data를 가지고 모형 학습\r\n",
    "pr = LinearRegression()     #모형/모델을 생성\r\n",
    "pr.fit(X_train_poly, y_train)   #모형/모델을 학습 결과\r\n",
    "\r\n",
    "# 학습을 마친 모형에 test data를 적용하여 결정계수(R-제곱) 계산\r\n",
    "X_test_poly = poly.fit_transform(X_test)       #X_test 데이터를 2차항으로 변형\r\n",
    "r_square = pr.score(X_test_poly,y_test)   #예측한 값과 원 데이터의 정확도 계산\r\n",
    "print(r_square)\r\n",
    "print('\\n')"
   ],
   "outputs": [
    {
     "output_type": "stream",
     "name": "stdout",
     "text": [
      "0.7361831025935888\n",
      "\n",
      "\n"
     ]
    }
   ],
   "metadata": {}
  },
  {
   "cell_type": "code",
   "execution_count": 11,
   "source": [
    "# train data의 산점도와 test data로 예측한 회귀선을 그래프로 출력 \r\n",
    "y_hat_test = pr.predict(X_test_poly)\r\n",
    "\r\n",
    "fig = plt.figure(figsize=(10, 5))\r\n",
    "ax = fig.add_subplot(1, 1, 1)\r\n",
    "ax.plot(X_train, y_train, 'o', label='Train Data')  # 데이터 분포\r\n",
    "ax.plot(X_test, y_hat_test, 'r+', label='Predicted Value') # 모형이 학습한 회귀선\r\n",
    "ax.legend(loc='best')\r\n",
    "plt.xlabel('weight')\r\n",
    "plt.ylabel('mpg')\r\n",
    "plt.show()\r\n",
    "plt.close()\r\n"
   ],
   "outputs": [
    {
     "output_type": "display_data",
     "data": {
      "image/png": "[encoded data removed]",
      "text/plain": [
       "<Figure size 720x360 with 1 Axes>"
      ]
     },
     "metadata": {
      "needs_background": "light"
     }
    }
   ],
   "metadata": {}
  },
  {
   "cell_type": "code",
   "execution_count": 12,
   "source": [
    "# 모형에 전체 X 데이터를 입력하여 예측한 값 y_hat을 실제 값 y와 비교 \r\n",
    "X_ploy = poly.fit_transform(X)\r\n",
    "y_hat = pr.predict(X_ploy)\r\n",
    "\r\n",
    "plt.figure(figsize=(10, 5))\r\n",
    "ax1 = sns.kdeplot(y, label=\"y\")\r\n",
    "ax2 = sns.kdeplot(y_hat, label=\"y_hat\", ax=ax1)\r\n",
    "plt.legend()\r\n",
    "plt.show()"
   ],
   "outputs": [
    {
     "output_type": "display_data",
     "data": {
      "image/png": "[encoded data removed]",
      "text/plain": [
       "<Figure size 720x360 with 1 Axes>"
      ]
     },
     "metadata": {
      "needs_background": "light"
     }
    }
   ],
   "metadata": {}
  },
  {
   "cell_type": "code",
   "execution_count": null,
   "source": [],
   "outputs": [],
   "metadata": {}
  }
 ],
 "metadata": {
  "orig_nbformat": 4,
  "language_info": {
   "name": "python",
   "version": "3.8.3",
   "mimetype": "text/x-python",
   "codemirror_mode": {
    "name": "ipython",
    "version": 3
   },
   "pygments_lexer": "ipython3",
   "nbconvert_exporter": "python",
   "file_extension": ".py"
  },
  "kernelspec": {
   "name": "python3",
   "display_name": "Python 3.8.3 64-bit ('base': conda)"
  },
  "interpreter": {
   "hash": "09220a44198ba57552f0c6f8ecd557b7a9592b92a727b278f6d038c79dedcf61"
  }
 },
 "nbformat": 4,
 "nbformat_minor": 2
}