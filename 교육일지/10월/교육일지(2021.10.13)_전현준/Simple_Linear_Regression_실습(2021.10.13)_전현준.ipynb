{
 "cells": [
  {
   "cell_type": "markdown",
   "metadata": {},
   "source": [
    "# Simple Linear Regression\n",
    "\n",
    "* 선형회귀  최소제곱추정법의 Loss_Fucntion을 직접 구현해보기 \n",
    "* 구현한 결과를 `sklearn`의 반환값과 비교해보기 "
   ]
  },
  {
   "cell_type": "code",
   "execution_count": 4,
   "metadata": {},
   "outputs": [],
   "source": [
    "import numpy as np\n",
    "import pandas as pd\n",
    "import matplotlib.pyplot as plt\n"
   ]
  },
  {
   "cell_type": "code",
   "execution_count": 7,
   "metadata": {},
   "outputs": [
    {
     "data": {
      "text/plain": [
       "array([ 1,  2,  3,  4,  5,  6,  7,  8,  9, 10, 11, 12, 13, 14, 15, 16, 17,\n",
       "       18, 19, 20, 21, 22, 23, 24, 25, 26, 27, 28, 29], dtype=int16)"
      ]
     },
     "execution_count": 7,
     "metadata": {},
     "output_type": "execute_result"
    }
   ],
   "source": [
    "x = np.arange(1,30,1,dtype = np.int16)\n",
    "x"
   ]
  },
  {
   "cell_type": "code",
   "execution_count": 18,
   "metadata": {},
   "outputs": [
    {
     "data": {
      "text/plain": [
       "array([-10.22406365,   4.12800259,   7.55968155,  16.16012052,\n",
       "         3.29790979,  16.03246156,   6.27664086,  23.4472299 ,\n",
       "        19.25819473,  16.46589217,  31.12573442,  13.89857975,\n",
       "        35.71119525,  30.56621783,  40.50449049,  30.71386538,\n",
       "        27.8633732 ,  25.12169442,  32.05750377,  44.58083399,\n",
       "        31.37383174,  36.57414409,  49.47223494,  58.80118812,\n",
       "        56.54798789,  39.99139556,  44.1233851 ,  50.26133161,\n",
       "        57.68540812])"
      ]
     },
     "execution_count": 18,
     "metadata": {},
     "output_type": "execute_result"
    }
   ],
   "source": [
    "y = 2*x + 1\n",
    "y\n",
    "\n",
    "# Random Normal Distribution\n",
    "y_random = y + np.random.normal(loc = 0, scale = 8 , size = len(y))  # location  = 0 , sta = 8  \n",
    "y_random"
   ]
  },
  {
   "cell_type": "code",
   "execution_count": 20,
   "metadata": {},
   "outputs": [
    {
     "data": {
      "image/png": "[encoded data removed]",
      "text/plain": [
       "<Figure size 432x288 with 1 Axes>"
      ]
     },
     "metadata": {
      "needs_background": "light"
     },
     "output_type": "display_data"
    }
   ],
   "source": [
    "plt.plot(x,y,'.',markersize = 13,label = 'y')\n",
    "plt.plot(x,y_random,'.',markersize = 13,label = 'y_random')\n",
    "plt.xlabel(\"x\")\n",
    "plt.ylabel(\"y\")\n",
    "plt.legend()\n",
    "plt.show()"
   ]
  },
  {
   "cell_type": "markdown",
   "metadata": {},
   "source": [
    "# Parameter Estimation\n",
    "\n",
    "### y_random을 실제 데이터라 생각하고 target 찾기 \n",
    "\n",
    "$\\beta_1 = \\frac{S_{xy}}{S_{xx}}$  \n",
    "\n",
    "$\\beta_0 = \\overline{y} - \\beta_1\\overline{x}$\n"
   ]
  },
  {
   "cell_type": "code",
   "execution_count": 26,
   "metadata": {},
   "outputs": [
    {
     "name": "stdout",
     "output_type": "stream",
     "text": [
      "Sxy: 3841.363778088995\n",
      "Sxx : 2030.0 \n",
      "beta_0 : 0.56\n",
      "beta_1 : 1.892\n"
     ]
    }
   ],
   "source": [
    "Sxy = (x - np.mean(x)) * (y_random - np.mean(y_random))\n",
    "Sxx = (x - np.mean(x)) ** 2\n",
    "\n",
    "Sxy = Sxy.sum()\n",
    "Sxx = Sxx.sum()\n",
    "\n",
    "print(f'Sxy: {Sxy}\\nSxx : {Sxx} ')\n",
    "\n",
    "beta_1 = Sxy / Sxx\n",
    "beta_0 = np.mean(y_random) - beta_1*np.mean(x)\n",
    "\n",
    "print(f'beta_0 : {beta_0.round(3)}\\nbeta_1 : {beta_1.round(3)}')"
   ]
  },
  {
   "cell_type": "markdown",
   "metadata": {},
   "source": [
    "# Visualization Estimation\n",
    "\n",
    "* 대부분의 경우 target을 알 수 없다 "
   ]
  },
  {
   "cell_type": "code",
   "execution_count": 36,
   "metadata": {},
   "outputs": [
    {
     "data": {
      "image/png": "[encoded data removed]",
      "text/plain": [
       "<Figure size 432x288 with 1 Axes>"
      ]
     },
     "metadata": {
      "needs_background": "light"
     },
     "output_type": "display_data"
    }
   ],
   "source": [
    "Result = beta_1 * x + beta_0\n",
    "\n",
    "plt.plot(x,Result,label = 'Estimation')\n",
    "plt.plot(x,y,'.',label = 'Target')\n",
    "plt.plot(x,y_random,'.',label = 'Feature')\n",
    "plt.title(\"Estimation\")\n",
    "plt.legend()\n",
    "plt.show()"
   ]
  },
  {
   "cell_type": "markdown",
   "metadata": {},
   "source": [
    "### Random의 값이 모두 다르기 때문에 seed값을 주어서 똑같이 확인해보기"
   ]
  },
  {
   "cell_type": "code",
   "execution_count": 37,
   "metadata": {},
   "outputs": [
    {
     "name": "stdout",
     "output_type": "stream",
     "text": [
      "seed_Sxy: 4081.0757749214436\n",
      "seed_Sxx : 2030.0 \n",
      "beta_0 : 1.031\n",
      "beta_1 : 2.01\n"
     ]
    }
   ],
   "source": [
    "np.random.seed(1013)\n",
    "seed_y_random = y + np.random.normal(loc = 0, scale = 8 , size = len(y))  # location  = 0 , sta = 8  \n",
    "\n",
    "seed_Sxy = (x - np.mean(x)) * (seed_y_random - np.mean(seed_y_random))\n",
    "seed_Sxx = (x - np.mean(x)) ** 2\n",
    "\n",
    "seed_Sxy = seed_Sxy.sum()\n",
    "seed_Sxx = seed_Sxx.sum()\n",
    "\n",
    "print(f'seed_Sxy: {seed_Sxy}\\nseed_Sxx : {seed_Sxx} ')\n",
    "\n",
    "seed_beta_1 = seed_Sxy / seed_Sxx\n",
    "seed_beta_0 = np.mean(seed_y_random) - seed_beta_1*np.mean(x)\n",
    "\n",
    "print(f'beta_0 : {seed_beta_0.round(3)}\\nbeta_1 : {seed_beta_1.round(3)}')\n"
   ]
  },
  {
   "cell_type": "code",
   "execution_count": 39,
   "metadata": {},
   "outputs": [
    {
     "data": {
      "image/png": "[encoded data removed]",
      "text/plain": [
       "<Figure size 432x288 with 1 Axes>"
      ]
     },
     "metadata": {
      "needs_background": "light"
     },
     "output_type": "display_data"
    }
   ],
   "source": [
    "seed_Result = seed_beta_1 * x + seed_beta_0\n",
    "\n",
    "plt.plot(x,seed_Result,label = 'Estimation')\n",
    "plt.plot(x,y,'.',label = 'Target')\n",
    "plt.plot(x,seed_y_random,'.',label = 'Feature')\n",
    "plt.title(\"Estimation(Random Seed Eq\")\n",
    "plt.legend()\n",
    "plt.show()"
   ]
  },
  {
   "cell_type": "markdown",
   "metadata": {},
   "source": [
    "# Sklearn을 활용해서 앞서 구현한 결과와 비교해보기"
   ]
  },
  {
   "cell_type": "code",
   "execution_count": 40,
   "metadata": {},
   "outputs": [],
   "source": [
    "from sklearn.linear_model import LinearRegression\n",
    "\n",
    "lr = LinearRegression() # 객체 생성"
   ]
  },
  {
   "cell_type": "code",
   "execution_count": 42,
   "metadata": {},
   "outputs": [
    {
     "name": "stdout",
     "output_type": "stream",
     "text": [
      "(29,) (29, 1)\n"
     ]
    }
   ],
   "source": [
    "x_2d =x.reshape(-1,1) # x의 demention을 2d로 변경\n",
    "print(np.shape(x), np.shape(x_2d))"
   ]
  },
  {
   "cell_type": "markdown",
   "metadata": {},
   "source": [
    "# model 에 값을 넣어서 값 확인\n",
    "\n",
    "* sklearn 모듈을 사용해서 쉽게 Estimation  가능\n",
    "\n",
    "`LinearRegression.coef_ ` = $\\beta_1$  \n",
    "`LinearRegression.intercept_` = $\\beta_0$"
   ]
  },
  {
   "cell_type": "code",
   "execution_count": 53,
   "metadata": {},
   "outputs": [
    {
     "name": "stdout",
     "output_type": "stream",
     "text": [
      "coef : [2.01038216] \n",
      "before_beta_1 : 2.010382155133716\n",
      "\n",
      "intercept : 1.0308305920375211\n",
      "before_beta_0 : 1.0308305920375282\n"
     ]
    }
   ],
   "source": [
    "lr.fit(x_2d, seed_y_random)\n",
    "print(f'coef : {lr.coef_} \\nbefore_beta_1 : {seed_beta_1}\\n\\nintercept : {lr.intercept_}\\nbefore_beta_0 : {seed_beta_0}')\n"
   ]
  },
  {
   "cell_type": "code",
   "execution_count": null,
   "metadata": {},
   "outputs": [],
   "source": []
  }
 ],
 "metadata": {
  "interpreter": {
   "hash": "09220a44198ba57552f0c6f8ecd557b7a9592b92a727b278f6d038c79dedcf61"
  },
  "kernelspec": {
   "display_name": "Python 3",
   "language": "python",
   "name": "python3"
  },
  "language_info": {
   "codemirror_mode": {
    "name": "ipython",
    "version": 3
   },
   "file_extension": ".py",
   "mimetype": "text/x-python",
   "name": "python",
   "nbconvert_exporter": "python",
   "pygments_lexer": "ipython3",
   "version": "3.8.3"
  }
 },
 "nbformat": 4,
 "nbformat_minor": 2
}
