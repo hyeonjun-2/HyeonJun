{
 "cells": [
  {
   "cell_type": "code",
   "execution_count": 1,
   "metadata": {},
   "outputs": [],
   "source": [
    "import numpy as np\n",
    "import sys\n",
    "import cv2"
   ]
  },
  {
   "cell_type": "markdown",
   "metadata": {},
   "source": [
    "# Review"
   ]
  },
  {
   "cell_type": "code",
   "execution_count": 8,
   "metadata": {},
   "outputs": [],
   "source": [
    "cap = cv2.VideoCapture(0)\n",
    "\n",
    "if not cap.isOpened():\n",
    "    print('video open failed')\n",
    "    cap.release()\n",
    "    sys.exit()\n",
    "\n",
    "cv2.namedWindow('webcam')\n",
    "\n",
    "width = int(cap.get(cv2.CAP_PROP_FRAME_WIDTH))\n",
    "height = int(cap.get(cv2.CAP_PROP_FRAME_HEIGHT))\n",
    "fps = int(cap.get(cv2.CAP_PROP_FPS))\n",
    "fourcc = cv2.VideoWriter_fourcc(*\"DIVX\")\n",
    "\n",
    "# out = cv2.VideoWriter('my_webcam.avi',width, height, fps, fourcc)\n",
    "while True:\n",
    "\n",
    "    ret, frame = cap.read()\n",
    "\n",
    "    if not ret:\n",
    "        print(\"Video Read Failed\")\n",
    "        break\n",
    "    ###################IMAGE PROCESSING############################\n",
    "    edge = cv2.Canny(frame, 50, 100)\n",
    "    edge = cv2.cvtColor(edge,cv2.COLOR_GRAY2BGR)\n",
    "    ###############################################################\n",
    "    # out.write(edge)\n",
    "    cv2.imshow('webcam',frame)\n",
    "    cv2.imshow('edge',edge)\n",
    "    if cv2.waitKey(10) == 27:\n",
    "        break\n",
    "cap.release()\n",
    "# out.release()\n",
    "cv2.destroyAllWindows()\n",
    "    "
   ]
  },
  {
   "cell_type": "code",
   "execution_count": 15,
   "metadata": {},
   "outputs": [
    {
     "name": "stdout",
     "output_type": "stream",
     "text": [
      "Event Left Button Down: 112 73\n",
      "Event Left Button Down: 25 12\n",
      "Event Left Button Down: 299 217\n"
     ]
    }
   ],
   "source": [
    "oldx, oldy = -1, -1\n",
    "def call_mouse (event, x, y, flags, param):\n",
    "    global oldx\n",
    "    global oldy\n",
    "    if event == cv2.EVENT_LBUTTONDOWN:\n",
    "        print(\"Event Left Button Down:\",x,y)\n",
    "        oldx, oldy = x, y\n",
    "    elif event == cv2.EVENT_MOUSEMOVE:\n",
    "        if flags ==  cv2.EVENT_FLAG_LBUTTON:\n",
    "            cv2.line(img, (oldx, oldy), (x,y), (255,255,0),5,cv2.LINE_AA)\n",
    "            cv2.imshow('img',img)\n",
    "            oldx, oldy = x, y\n",
    "\n",
    "img = np.ones((400,600,3), dtype = np.uint8)*255\n",
    "\n",
    "cv2.namedWindow('img') # mouse callback을 받기 위해 window 창 받기\n",
    "cv2.setMouseCallback('img',call_mouse,img)\n",
    "cv2.imshow('img',img)\n",
    "\n",
    "cv2.waitKey()\n",
    "cv2.destroyAllWindows()"
   ]
  },
  {
   "cell_type": "code",
   "execution_count": 18,
   "metadata": {},
   "outputs": [
    {
     "name": "stdout",
     "output_type": "stream",
     "text": [
      "Event Left Button Down: 108 43\n",
      "Event Left Button Down: 233 51\n",
      "Event Left Button Down: 317 171\n",
      "Event Left Button Down: 476 105\n",
      "Event Left Button Down: 402 35\n",
      "Event Left Button Down: 315 44\n",
      "Event Left Button Down: 536 4\n",
      "Event Left Button Down: 89 237\n",
      "Event Left Button Down: 193 220\n",
      "Event Left Button Down: 236 248\n",
      "Event Left Button Down: 268 246\n",
      "Event Left Button Down: 432 226\n",
      "Event Left Button Down: 493 260\n",
      "Event Left Button Down: 530 252\n"
     ]
    }
   ],
   "source": [
    "oldx, oldy = -1, -1\n",
    "b, g, r = 0, 0, 0\n",
    "def call_mouse (event, x, y, flags, param):\n",
    "    global oldx\n",
    "    global oldy\n",
    "    global b\n",
    "    global g\n",
    "    global r\n",
    "    if event == cv2.EVENT_LBUTTONDOWN:\n",
    "        print(\"Event Left Button Down:\",x,y)\n",
    "        oldx, oldy = x, y\n",
    "    elif event == cv2.EVENT_MOUSEMOVE:\n",
    "        if flags ==  cv2.EVENT_FLAG_LBUTTON:\n",
    "            cv2.line(img, (oldx, oldy), (x,y), (b,g,r),5,cv2.LINE_AA)\n",
    "            cv2.imshow('img',img)\n",
    "            oldx, oldy = x, y\n",
    "\n",
    "def call_track_blue(pos):\n",
    "    global b\n",
    "    b = pos\n",
    "\n",
    "def call_track_green(pos):\n",
    "    global g\n",
    "    g = pos\n",
    "\n",
    "def call_track_red(pos):\n",
    "    global r\n",
    "    r = pos\n",
    "    \n",
    "\n",
    "img = np.ones((400,600,3), dtype = np.uint8)*255\n",
    "\n",
    "cv2.namedWindow('img') # mouse callback을 받기 위해 window 창 받기\n",
    "cv2.createTrackbar('Blue','img',0,255,call_track_blue)\n",
    "cv2.createTrackbar('Grean','img',0,255,call_track_green)\n",
    "cv2.createTrackbar('Red','img',0,255,call_track_red)\n",
    "cv2.setMouseCallback('img',call_mouse,img)\n",
    "cv2.imshow('img',img)\n",
    "\n",
    "cv2.waitKey()\n",
    "cv2.destroyAllWindows()"
   ]
  },
  {
   "cell_type": "code",
   "execution_count": 21,
   "metadata": {},
   "outputs": [],
   "source": [
    "src = cv2.imread(r'C:/Users/ir749/Desktop/fig/lenna.bmp',cv2.IMREAD_COLOR)\n",
    "\n",
    "if src is None:\n",
    "    print(\" image read fail\")\n",
    "\n",
    "#dst = src + 100\n",
    "#dst = cv2.add(src,100)\n",
    "dst = np.clip(src + 100., 0 ,255).astype(np.uint8)\n",
    "dst = cv2.cvtColor(src, cv2.COLOR_BGR2HSV)\n",
    "cv2.imshow('img',src)\n",
    "cv2.imshow('dst',dst)\n",
    "\n",
    "cv2.waitKey()\n",
    "cv2.destroyAllWindows()"
   ]
  },
  {
   "cell_type": "markdown",
   "metadata": {},
   "source": [
    "# 산술연산"
   ]
  },
  {
   "cell_type": "code",
   "execution_count": 39,
   "metadata": {},
   "outputs": [],
   "source": [
    "img1 = cv2.imread(r'C:/Users/ir749/Desktop/fig/lenna256.bmp',cv2.IMREAD_GRAYSCALE)\n",
    "img2 = np.zeros((256,256),np.uint8)\n",
    "\n",
    "cv2.circle(img2,center = (128,128), radius = 100, color = 100, thickness= -1 )\n",
    "cv2.circle(img2,center = (128,128), radius = 50, color = 50, thickness= -1 )  # img, centerPoint , radius\n",
    "\n",
    "dst1 = cv2.add(img1,img2)\n",
    "dst2 = cv2.addWeighted(img1, alpha = 0.8, src2 = img2, beta = 0.1, gamma = 0.0)  #dst = src1*alpha + src2*beta + gamma;\n",
    "dst3 = cv2.subtract(img2,img1)  # 빼기\n",
    "dst4 = cv2.absdiff(img2,img1) # 절댓값 빼기\n",
    "  \n",
    "\n",
    "cv2.imshow('img',img1)\n",
    "cv2.imshow('img2',img2)\n",
    "cv2.imshow('dst1',dst1)\n",
    "cv2.imshow('dst2',dst2)\n",
    "cv2.imshow('dst3',dst3)\n",
    "cv2.imshow('dst4',dst4)\n",
    "\n",
    "cv2.waitKey()\n",
    "cv2.destroyAllWindows()"
   ]
  },
  {
   "cell_type": "markdown",
   "metadata": {},
   "source": [
    "# BGR channel Splitting"
   ]
  },
  {
   "cell_type": "code",
   "execution_count": 47,
   "metadata": {},
   "outputs": [
    {
     "name": "stdout",
     "output_type": "stream",
     "text": [
      "(367, 550, 3)\n"
     ]
    }
   ],
   "source": [
    "src = cv2.imread(r'C:/Users/ir749/Desktop/fig/flowers_rgb.jpg',cv2.IMREAD_COLOR)\n",
    "print(src.shape)\n",
    "\n",
    "# b, g, r = cv2.split(src)\n",
    "b = src[:,:,0]\n",
    "g = src[:,:,1]\n",
    "r = src[:,:,2]\n",
    "\n",
    "cv2.imshow('src',src)\n",
    "cv2.imshow('src_b',b)\n",
    "cv2.imshow('src_g',g)\n",
    "cv2.imshow('src_r',r)\n",
    "\n",
    "cv2.waitKey()\n",
    "cv2.destroyAllWindows()"
   ]
  },
  {
   "cell_type": "markdown",
   "metadata": {},
   "source": [
    "# HSV Channel Splitting"
   ]
  },
  {
   "cell_type": "code",
   "execution_count": 17,
   "metadata": {},
   "outputs": [
    {
     "name": "stdout",
     "output_type": "stream",
     "text": [
      "(367, 550, 3)\n"
     ]
    }
   ],
   "source": [
    "src = cv2.imread(r'C:/Users/ir749/Desktop/fig/flowers_rgb.jpg',cv2.IMREAD_COLOR)\n",
    "print(src.shape)\n",
    "\n",
    "src_hsv = cv2.cvtColor(src,cv2.COLOR_BGR2HSV)\n",
    "# b, g, r = cv2.split(src)\n",
    "h = src_hsv[:,:,0]\n",
    "s = src_hsv[:,:,1]\n",
    "v = src_hsv[:,:,2]\n",
    "\n",
    "cv2.imshow('src',src)\n",
    "cv2.imshow('src_h',h)\n",
    "cv2.imshow('src_s',s)\n",
    "cv2.imshow('src_v',v)\n",
    "\n",
    "cv2.waitKey()\n",
    "cv2.destroyAllWindows()"
   ]
  },
  {
   "cell_type": "markdown",
   "metadata": {},
   "source": [
    "# Check RGB Histogram"
   ]
  },
  {
   "cell_type": "code",
   "execution_count": 20,
   "metadata": {},
   "outputs": [
    {
     "data": {
      "image/png": "[encoded data removed]",
      "text/plain": [
       "<Figure size 432x288 with 1 Axes>"
      ]
     },
     "metadata": {
      "needs_background": "light"
     },
     "output_type": "display_data"
    }
   ],
   "source": [
    "import matplotlib.pyplot as plt\n",
    "hist = cv2.calcHist([src], [0], None, [256], [0, 256])\n",
    "\n",
    "plt.plot(hist)\n",
    "plt.show()\n",
    "\n",
    "cv2.imshow('src', src)\n",
    "\n",
    "cv2.waitKey()\n",
    "cv2.destroyAllWindows()"
   ]
  },
  {
   "cell_type": "code",
   "execution_count": 19,
   "metadata": {},
   "outputs": [
    {
     "data": {
      "image/png": "[encoded data removed]",
      "text/plain": [
       "<Figure size 432x288 with 1 Axes>"
      ]
     },
     "metadata": {
      "needs_background": "light"
     },
     "output_type": "display_data"
    }
   ],
   "source": [
    "src = cv2.imread(r'C:/Users/ir749/Desktop/fig/lenna.bmp', cv2.IMREAD_COLOR)\n",
    "\n",
    "b, g, r = cv2.split(src)\n",
    "\n",
    "b_hist = cv2.calcHist([b], [0], None, [256], [0, 256])\n",
    "g_hist = cv2.calcHist([g], [0], None, [256], [0, 256])\n",
    "r_hist = cv2.calcHist([r], [0], None, [256], [0, 256])\n",
    "\n",
    "plt.plot(b_hist, color='b', label='Blue')\n",
    "plt.plot(g_hist, color='g', label='Green')\n",
    "plt.plot(r_hist, color='r', label='Red')\n",
    "plt.legend()\n",
    "plt.show()"
   ]
  },
  {
   "cell_type": "code",
   "execution_count": 21,
   "metadata": {},
   "outputs": [
    {
     "data": {
      "image/png": "[encoded data removed]",
      "text/plain": [
       "<Figure size 432x288 with 1 Axes>"
      ]
     },
     "metadata": {
      "needs_background": "light"
     },
     "output_type": "display_data"
    }
   ],
   "source": [
    "h, s, v = cv2.split(cv2.cvtColor(src, cv2.COLOR_BGR2HSV))\n",
    "\n",
    "h_hist = cv2.calcHist([h], [0], None, [256], [0, 256])\n",
    "s_hist = cv2.calcHist([s], [0], None, [256], [0, 256])\n",
    "v_hist = cv2.calcHist([v], [0], None, [256], [0, 256])\n",
    "\n",
    "plt.plot(h_hist, label='Hue')\n",
    "plt.plot(s_hist, label='Saturation')\n",
    "plt.plot(v_hist, label='Value')\n",
    "plt.legend()\n",
    "plt.show()"
   ]
  },
  {
   "cell_type": "markdown",
   "metadata": {},
   "source": [
    "# 명암비 조정\n"
   ]
  },
  {
   "cell_type": "code",
   "execution_count": 5,
   "metadata": {},
   "outputs": [
    {
     "name": "stdout",
     "output_type": "stream",
     "text": [
      "min : 113.0\n",
      "max : 213.0\n"
     ]
    }
   ],
   "source": [
    "src = cv2.imread(r'C:/Users/ir749/Desktop/fig/Hawkes.jpg',cv2.IMREAD_GRAYSCALE)\n",
    "\n",
    "cv2.imshow('src',src)\n",
    "\n",
    "smin,smax,_,_ = cv2.minMaxLoc(src)\n",
    "print(f'min : {smin}\\nmax : {smax}')\n",
    "#dst = np.clip((255*(src-smin) / (smax - smin)),0,255).astype(np.uint8)  # Histogram streching(Normalization)\n",
    "dst = cv2.normalize(src,None,alpha = 0, beta = 255, norm_type=  cv2.NORM_MINMAX)\n",
    "\n",
    "cv2.imshow('dst',dst)\n",
    "cv2.waitKey()\n",
    "cv2.destroyAllWindows()"
   ]
  },
  {
   "cell_type": "code",
   "execution_count": 6,
   "metadata": {},
   "outputs": [],
   "source": [
    "src = cv2.imread(r'C:/Users/ir749/Desktop/fig/Hawkes.jpg',cv2.IMREAD_GRAYSCALE)\n",
    "\n",
    "dst2 = cv2.equalizeHist(src)\n",
    "\n",
    "cv2.imshow('src',src)\n",
    "cv2.imshow('Minmax',dst)\n",
    "cv2.imshow('equlize',dst2)\n",
    "cv2.waitKey()\n",
    "cv2.destroyAllWindows()"
   ]
  },
  {
   "cell_type": "markdown",
   "metadata": {},
   "source": [
    "# Color image histogram Normalize"
   ]
  },
  {
   "cell_type": "markdown",
   "metadata": {},
   "source": [
    "### HSV SYSTEM Equlizaiton"
   ]
  },
  {
   "cell_type": "code",
   "execution_count": 9,
   "metadata": {},
   "outputs": [],
   "source": [
    "src = cv2.imread(r'C:/Users/ir749/Desktop/fig/field.bmp')\n",
    "# bgr to hsv\n",
    "hsv = cv2.cvtColor(src, cv2.COLOR_BGR2HSV)\n",
    "h, s, v = cv2.split(hsv)\n",
    "# V channel histogram equlization\n",
    "v = cv2.equalizeHist(v)\n",
    "\n",
    "dst_hsv = cv2.merge([h,s,v])\n",
    "dst_hsv = cv2.cvtColor(dst_hsv,cv2.COLOR_HSV2BGR)\n",
    "\n",
    "cv2.imshow('src',src)\n",
    "cv2.imshow('hsv',dst_hsv)\n",
    "cv2.waitKey()\n",
    "cv2.destroyAllWindows()"
   ]
  },
  {
   "cell_type": "markdown",
   "metadata": {},
   "source": [
    "### YCrCb System Equlization"
   ]
  },
  {
   "cell_type": "code",
   "execution_count": 16,
   "metadata": {},
   "outputs": [],
   "source": [
    "src = cv2.imread(r'C:/Users/ir749/Desktop/fig/field.bmp')\n",
    "\n",
    "y_cr_cb = cv2.cvtColor(src, cv2.COLOR_BGR2YCrCb)\n",
    "\n",
    "y, cr, cb  = cv2.split(y_cr_cb)\n",
    "\n",
    "y = cv2.equalizeHist(y)\n",
    "\n",
    "dst = cv2.merge([y,cr,cb])\n",
    "\n",
    "dst = cv2.cvtColor(dst,cv2.COLOR_YCrCb2BGR)\n",
    "\n",
    "cv2.imshow('src',src)\n",
    "cv2.imshow('hsv',dst)\n",
    "cv2.waitKey()\n",
    "cv2.destroyAllWindows()"
   ]
  }
 ],
 "metadata": {
  "interpreter": {
   "hash": "9e58c63bc3fa05d4d6dad842ca617a63dd6b79c33e76931ea021a4c56a6ed4e8"
  },
  "kernelspec": {
   "display_name": "Python 3.8.3 32-bit",
   "language": "python",
   "name": "python3"
  },
  "language_info": {
   "codemirror_mode": {
    "name": "ipython",
    "version": 3
   },
   "file_extension": ".py",
   "mimetype": "text/x-python",
   "name": "python",
   "nbconvert_exporter": "python",
   "pygments_lexer": "ipython3",
   "version": "3.8.3"
  },
  "orig_nbformat": 4
 },
 "nbformat": 4,
 "nbformat_minor": 2
}
