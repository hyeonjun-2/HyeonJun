{
 "cells": [
  {
   "cell_type": "code",
   "execution_count": 18,
   "metadata": {},
   "outputs": [],
   "source": [
    "import numpy as np\n",
    "import sys\n",
    "import cv2"
   ]
  },
  {
   "cell_type": "code",
   "execution_count": 2,
   "metadata": {},
   "outputs": [],
   "source": [
    "img = np.full((600,1200,3),255,np.uint8)\n",
    "\n",
    "cv2.line(img,(50,50),(300,50),(0,0,255),5)\n",
    "cv2.rectangle(img,(50,70),(300,100),(255,0,0),-1)\n",
    "cv2.circle(img,(500,200),150, (0,255,0),5,cv2.LINE_AA)\n",
    "\n",
    "text = 'Merry Christmas'\n",
    "cv2.putText(img,text,(500,400),cv2.FONT_HERSHEY_COMPLEX,\n",
    "            2,(0,0,255),2,cv2.LINE_AA)\n",
    "cv2.namedWindow('img')\n",
    "\n",
    "cv2.imshow('img',img)\n",
    "cv2.waitKey()\n",
    "cv2.destroyAllWindows()\n"
   ]
  },
  {
   "cell_type": "code",
   "execution_count": 5,
   "metadata": {},
   "outputs": [],
   "source": [
    "cap = cv2.VideoCapture(0)\n",
    "\n",
    "if not cap.isOpened():\n",
    "    print('Video open fail')\n",
    "    cap.release()\n",
    "    sys.exit()\n",
    "\n",
    "cv2.namedWindow('webcam',cv2.WINDOW_AUTOSIZE)\n",
    "while True:\n",
    "    \n",
    "    ret, frame = cap.read()   \n",
    "    if not ret:\n",
    "        print('Video read fail')\n",
    "        break\n",
    "    edge = cv2.Canny(frame,50,150)\n",
    "    cv2.imshow('webcam',frame)\n",
    "    cv2.imshow('edge',edge)\n",
    "    if cv2.waitKey(10) == 27:\n",
    "        break\n",
    "\n",
    "cap.release()\n",
    "cv2.destroyAllWindows()\n"
   ]
  },
  {
   "cell_type": "markdown",
   "metadata": {},
   "source": [
    "### 저장하기"
   ]
  },
  {
   "cell_type": "code",
   "execution_count": 16,
   "metadata": {},
   "outputs": [],
   "source": [
    "cap = cv2.VideoCapture(0)\n",
    "\n",
    "if not cap.isOpened():\n",
    "    print('Video open fail')\n",
    "    cap.release()\n",
    "    sys.exit()\n",
    "\n",
    "width = int(cap.get(cv2.CAP_PROP_FRAME_WIDTH))\n",
    "height =int(cap.get(cv2.CAP_PROP_FRAME_HEIGHT))\n",
    "fps = int(cap.get(cv2.CAP_PROP_FPS))\n",
    "fourcc = cv2.VideoWriter_fourcc(*'DIVX')\n",
    "\n",
    "out = cv2.VideoWriter('edge.avi',fourcc,fps,(width,height))\n",
    "out2 = cv2.VideoWriter('video.avi',fourcc,fps,(width,height))\n",
    "cv2.namedWindow('webcam',cv2.WINDOW_AUTOSIZE)\n",
    "while True:\n",
    "    \n",
    "    ret, frame = cap.read()   \n",
    "    if not ret:\n",
    "        print('Video read fail')\n",
    "        break\n",
    "    edge = cv2.Canny(frame,50,150)\n",
    "    edge = cv2.cvtColor(edge,cv2.COLOR_GRAY2BGR)\n",
    "    frame = cv2.cvtColor(frame,cv2.COLOR_BGR2GRAY)\n",
    "\n",
    "    frame = cv2.cvtColor(frame,cv2.COLOR_GRAY2BGR)\n",
    "    out.write(edge)\n",
    "    out2.write(frame)\n",
    "    cv2.imshow('webcam',frame)\n",
    "    cv2.imshow('edge',edge)\n",
    "    \n",
    "    if cv2.waitKey(10) == 27:\n",
    "        break\n",
    "\n",
    "cap.release()\n",
    "out.release()\n",
    "cv2.destroyAllWindows()\n"
   ]
  },
  {
   "cell_type": "code",
   "execution_count": null,
   "metadata": {},
   "outputs": [],
   "source": []
  }
 ],
 "metadata": {
  "interpreter": {
   "hash": "09220a44198ba57552f0c6f8ecd557b7a9592b92a727b278f6d038c79dedcf61"
  },
  "kernelspec": {
   "display_name": "Python 3.8.3 64-bit ('base': conda)",
   "name": "python3"
  },
  "language_info": {
   "codemirror_mode": {
    "name": "ipython",
    "version": 3
   },
   "file_extension": ".py",
   "mimetype": "text/x-python",
   "name": "python",
   "nbconvert_exporter": "python",
   "pygments_lexer": "ipython3",
   "version": "3.8.3"
  },
  "orig_nbformat": 4
 },
 "nbformat": 4,
 "nbformat_minor": 2
}
