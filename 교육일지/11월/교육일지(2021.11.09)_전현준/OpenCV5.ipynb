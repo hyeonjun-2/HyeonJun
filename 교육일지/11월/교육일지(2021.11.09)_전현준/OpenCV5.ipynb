{
 "cells": [
  {
   "cell_type": "code",
   "execution_count": 1,
   "metadata": {},
   "outputs": [],
   "source": [
    "import numpy as np\n",
    "import sys\n",
    "import cv2"
   ]
  },
  {
   "cell_type": "code",
   "execution_count": 2,
   "metadata": {},
   "outputs": [],
   "source": [
    "img = np.full((600,1200,3),255,np.uint8)\n",
    "\n",
    "cv2.line(img,(50,50),(300,50),(0,0,255),5)\n",
    "cv2.rectangle(img,(50,70),(300,100),(255,0,0),-1)\n",
    "cv2.circle(img,(500,200),150, (0,255,0),5,cv2.LINE_AA)\n",
    "\n",
    "text = 'Merry Christmas'\n",
    "cv2.putText(img,text,(500,400),cv2.FONT_HERSHEY_COMPLEX,\n",
    "            2,(0,0,255),2,cv2.LINE_AA)\n",
    "cv2.namedWindow('img')\n",
    "\n",
    "cv2.imshow('img',img)\n",
    "cv2.waitKey()\n",
    "cv2.destroyAllWindows()\n"
   ]
  },
  {
   "cell_type": "code",
   "execution_count": 5,
   "metadata": {},
   "outputs": [],
   "source": [
    "cap = cv2.VideoCapture(0)\n",
    "\n",
    "if not cap.isOpened():\n",
    "    print('Video open fail')\n",
    "    cap.release()\n",
    "    sys.exit()\n",
    "\n",
    "cv2.namedWindow('webcam',cv2.WINDOW_AUTOSIZE)\n",
    "while True:\n",
    "    \n",
    "    ret, frame = cap.read()   \n",
    "    if not ret:\n",
    "        print('Video read fail')\n",
    "        break\n",
    "    edge = cv2.Canny(frame,50,150)\n",
    "    cv2.imshow('webcam',frame)\n",
    "    cv2.imshow('edge',edge)\n",
    "    if cv2.waitKey(10) == 27:\n",
    "        break\n",
    "\n",
    "cap.release()\n",
    "cv2.destroyAllWindows()\n"
   ]
  },
  {
   "cell_type": "markdown",
   "metadata": {},
   "source": [
    "### 저장하기"
   ]
  },
  {
   "cell_type": "code",
   "execution_count": 19,
   "metadata": {},
   "outputs": [],
   "source": [
    "cap = cv2.VideoCapture(0)\n",
    "\n",
    "if not cap.isOpened():\n",
    "    print('Video open fail')\n",
    "    cap.release()\n",
    "    sys.exit()\n",
    "\n",
    "width = int(cap.get(cv2.CAP_PROP_FRAME_WIDTH))\n",
    "height =int(cap.get(cv2.CAP_PROP_FRAME_HEIGHT))\n",
    "fps = int(cap.get(cv2.CAP_PROP_FPS))\n",
    "fourcc = cv2.VideoWriter_fourcc(*'DIVX')\n",
    "\n",
    "out = cv2.VideoWriter('edge.avi',fourcc,fps,(width,height))\n",
    "out2 = cv2.VideoWriter('video.avi',fourcc,fps,(width,height))\n",
    "cv2.namedWindow('webcam',cv2.WINDOW_AUTOSIZE)\n",
    "while True:\n",
    "    \n",
    "    ret, frame = cap.read()   \n",
    "    if not ret:\n",
    "        print('Video read fail')\n",
    "        break\n",
    "    edge = cv2.Canny(frame,50,150)\n",
    "    edge = cv2.cvtColor(edge,cv2.COLOR_GRAY2BGR)\n",
    "    frame = cv2.cvtColor(frame,cv2.COLOR_BGR2GRAY)\n",
    "\n",
    "    frame = cv2.cvtColor(frame,cv2.COLOR_GRAY2BGR)\n",
    "    out.write(edge)\n",
    "    out2.write(frame)\n",
    "    cv2.imshow('webcam',frame)\n",
    "    cv2.imshow('edge',edge)\n",
    "    \n",
    "    if cv2.waitKey(10) == 27:\n",
    "        break\n",
    "\n",
    "cap.release()\n",
    "out.release()\n",
    "out2.release()\n",
    "cv2.destroyAllWindows()\n"
   ]
  },
  {
   "cell_type": "code",
   "execution_count": 3,
   "metadata": {},
   "outputs": [],
   "source": [
    "img = cv2.imread(r'C:/Users/ir749/Desktop/fig/puppy.bmp',cv2.IMREAD_GRAYSCALE)\n",
    "\n",
    "cv2.imshow('img',img)\n",
    "while True:\n",
    "\n",
    "    key = cv2.waitKey()\n",
    "    if key == 27 or key == ord('q'):\n",
    "        break\n",
    "    elif key == ord('i'):\n",
    "        #img = cv2.bitwise_not(img)\n",
    "        img = ~img\n",
    "        cv2.imshow('img',img)\n",
    "\n",
    "\n",
    "cv2.destroyAllWindows()"
   ]
  },
  {
   "cell_type": "markdown",
   "metadata": {},
   "source": [
    "# Mouse Event"
   ]
  },
  {
   "cell_type": "code",
   "execution_count": 9,
   "metadata": {},
   "outputs": [
    {
     "name": "stdout",
     "output_type": "stream",
     "text": [
      "down 99 39\n",
      "up 343 192\n"
     ]
    }
   ],
   "source": [
    "#CALL_mouse(event, x, y, flags, params) - >None\n",
    "oldx = -1\n",
    "oldy = -1\n",
    "def call_mouse(event, x, y, flags, param):\n",
    "    global oldx,oldy\n",
    "    if event == cv2.EVENT_LBUTTONDOWN:\n",
    "        print('down',x,y)\n",
    "        oldx,oldy = x,y\n",
    "    elif event == cv2.EVENT_LBUTTONUP:\n",
    "        print('up',x,y)\n",
    "    \n",
    "    elif event == cv2.EVENT_MOUSEMOVE:\n",
    "        #print(x,y)\n",
    "        if flags == cv2.EVENT_LBUTTONDOWN:\n",
    "            cv2.line(img, (oldx, oldy),(x,y), (0,0,255),4,cv2.LINE_AA)\n",
    "            cv2.imshow('img',img)\n",
    "            oldx, oldy = x, y\n",
    "\n",
    "img = np.ones((400,600,3),dtype = np.uint8) * 255\n",
    "\n",
    "cv2.namedWindow('img')\n",
    "# Mouse Call back \n",
    "cv2.setMouseCallback('img',call_mouse,img)  # WindowName, onMouse, param = None) - > None\n",
    "\n",
    "cv2.imshow('img',img)\n",
    "\n",
    "cv2.waitKey()\n",
    "cv2.destroyAllWindows()\n"
   ]
  },
  {
   "cell_type": "code",
   "execution_count": 19,
   "metadata": {},
   "outputs": [],
   "source": [
    "def call_track(pos): # position\n",
    "    # print(pos)\n",
    "    img[:] = pos\n",
    "    cv2.imshow('img',img)\n",
    "\n",
    "img = np.ones((400,600,3),dtype = np.uint8)\n",
    "\n",
    "cv2.namedWindow('img')\n",
    "# Mouse Call back \n",
    "cv2.createTrackbar('level','img',0,255,call_track)# trackbarName, windowName, value(min), count(max), onChange\n",
    "cv2.setMouseCallback('img',call_mouse,img)  # WindowName, onMouse, param = None) - > None\n",
    "\n",
    "cv2.imshow('img',img)\n",
    "\n",
    "cv2.waitKey()\n",
    "cv2.destroyAllWindows()\n"
   ]
  },
  {
   "cell_type": "code",
   "execution_count": 20,
   "metadata": {},
   "outputs": [],
   "source": [
    "def call_track(pos): # position\n",
    "     img_glass = img*pos\n",
    "     cv2.imshow('img',img_glass)\n",
    "    \n",
    "\n",
    "img_alpha = cv2.imread(r'C:/Users/ir749/Desktop/fig/sunglasses.png',cv2.IMREAD_UNCHANGED)\n",
    "\n",
    "img = img_alpha[:,:,-1]\n",
    "img[img>0] = 1\n",
    "\n",
    "cv2.namedWindow('img')\n",
    "cv2.createTrackbar('level','img',0,255,call_track)\n",
    "cv2.imshow('img',img)\n",
    "cv2.waitKey()\n",
    "cv2.destroyAllWindows()"
   ]
  },
  {
   "cell_type": "markdown",
   "metadata": {},
   "source": [
    "# ch3"
   ]
  },
  {
   "cell_type": "code",
   "execution_count": 4,
   "metadata": {},
   "outputs": [],
   "source": [
    "src = cv2.imread(r'C:/Users/ir749/Desktop/fig/lenna.bmp',cv2.IMREAD_GRAYSCALE)\n",
    "\n",
    "if src is None:\n",
    "    print(\" image read fail\")\n",
    "\n",
    "#dst = src + 100\n",
    "#dst = cv2.add(src,100)\n",
    "dst = np.clip(src + 100., 0 ,255).astype(np.uint8)\n",
    "\n",
    "\n",
    "cv2.imshow('img',src)\n",
    "cv2.imshow('dst',dst)\n",
    "\n",
    "cv2.waitKey()\n",
    "cv2.destroyAllWindows()"
   ]
  },
  {
   "cell_type": "markdown",
   "metadata": {},
   "source": [
    "# color"
   ]
  },
  {
   "cell_type": "code",
   "execution_count": 11,
   "metadata": {},
   "outputs": [],
   "source": [
    "src = cv2.imread(r'C:/Users/ir749/Desktop/fig/lenna.bmp',cv2.IMREAD_COLOR)\n",
    "\n",
    "if src is None:\n",
    "    print(\" image read fail\")\n",
    "\n",
    "# dst = cv2.add(src,(100,100,100,0))\n",
    "dst = np.clip(src + 100., 0 ,255).astype(np.uint8)\n",
    "\n",
    "\n",
    "cv2.imshow('img',src)\n",
    "cv2.imshow('dst',dst)\n",
    "\n",
    "cv2.waitKey()\n",
    "cv2.destroyAllWindows()"
   ]
  },
  {
   "cell_type": "code",
   "execution_count": null,
   "metadata": {},
   "outputs": [],
   "source": []
  }
 ],
 "metadata": {
  "interpreter": {
   "hash": "09220a44198ba57552f0c6f8ecd557b7a9592b92a727b278f6d038c79dedcf61"
  },
  "kernelspec": {
   "display_name": "Python 3.8.3 64-bit ('base': conda)",
   "name": "python3"
  },
  "language_info": {
   "codemirror_mode": {
    "name": "ipython",
    "version": 3
   },
   "file_extension": ".py",
   "mimetype": "text/x-python",
   "name": "python",
   "nbconvert_exporter": "python",
   "pygments_lexer": "ipython3",
   "version": "3.8.3"
  },
  "orig_nbformat": 4
 },
 "nbformat": 4,
 "nbformat_minor": 2
}
