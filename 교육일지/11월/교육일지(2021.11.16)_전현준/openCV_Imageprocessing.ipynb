{
 "cells": [
  {
   "cell_type": "code",
   "execution_count": 1,
   "metadata": {},
   "outputs": [],
   "source": [
    "import numpy as np\n",
    "import sys\n",
    "import cv2"
   ]
  },
  {
   "cell_type": "markdown",
   "metadata": {},
   "source": [
    "# Review"
   ]
  },
  {
   "cell_type": "code",
   "execution_count": 2,
   "metadata": {},
   "outputs": [],
   "source": [
    "src = cv2.imread(r'C://Users//ir749//Desktop//fig//blue_eyes.png', cv2.IMREAD_GRAYSCALE)\n",
    "\n",
    "\n",
    "kernel_3 = np.ones((3,3), np.float32)/9.\n",
    "kernel_5 = np.ones((5,5), np.float32)/25.\n",
    "\n",
    "# dst_3 = cv2.filter2D(src, -1, kernel_3)\n",
    "dst = cv2.blur(src, (3,3))\n",
    "\n",
    "cv2.imshow('dst_3',dst)\n",
    "\n",
    "cv2.waitKey()\n",
    "cv2.destroyAllWindows()"
   ]
  },
  {
   "cell_type": "code",
   "execution_count": 4,
   "metadata": {},
   "outputs": [],
   "source": [
    "# Gaussian Filter\n",
    "src = cv2.imread(r'C://Users//ir749//Desktop//fig//blue_eyes.png', cv2.IMREAD_GRAYSCALE)\n",
    "\n",
    "dst_gaussian = cv2.GaussianBlur(src, (0,0),sigmaX=1)\n",
    "\n",
    "cv2.imshow('dst_gaussian',dst_gaussian)\n",
    "\n",
    "cv2.waitKey()\n",
    "cv2.destroyAllWindows()"
   ]
  },
  {
   "cell_type": "code",
   "execution_count": 2,
   "metadata": {},
   "outputs": [],
   "source": [
    "#Sharpning\\\\\n",
    "\n",
    "src = cv2.imread(r'C://Users//ir749//Desktop//fig//blue_eyes.png', cv2.IMREAD_GRAYSCALE)\n",
    "\n",
    "dst_sharp = cv2.GaussianBlur(src, (0,0),sigmaX=1) \n",
    "dst_sharp = cv2.addWeighted(src,2, dst_sharp, -1,0)\n",
    "\n",
    "cv2.imshow('dst_sharp',dst_sharp)\n",
    "\n",
    "cv2.waitKey()\n",
    "cv2.destroyAllWindows()"
   ]
  },
  {
   "cell_type": "code",
   "execution_count": 9,
   "metadata": {},
   "outputs": [],
   "source": [
    "salt_pepper_noise1 = np.random.choice((0,255),src.shape, p = (0.95,0.05)).astype(np.int32)\n",
    "salt_pepper_noise2= np.random.choice((0,255),src.shape, p = (0.95,0.05)).astype(np.int32)\n",
    "src_noise = src + salt_pepper_noise1 - salt_pepper_noise2\n",
    "\n",
    "src_noise = np.clip(src_noise,0,255).astype(np.uint8)\n",
    "dst = cv2.medianBlur(src_noise,3)\n",
    "\n",
    "cv2.imshow('noise',src_noise)\n",
    "cv2.imshow('filtered',dst)\n",
    "\n",
    "cv2.waitKey()\n",
    "cv2.destroyAllWindows()"
   ]
  },
  {
   "cell_type": "code",
   "execution_count": 11,
   "metadata": {},
   "outputs": [],
   "source": [
    "src = cv2.imread(r'C://Users//ir749//Desktop//fig//blue_eyes.png', cv2.IMREAD_GRAYSCALE)\n",
    "\n",
    "dst_blur = cv2.GaussianBlur(src, (0,0),sigmaX=3) \n",
    "dst_bilateral = cv2.bilateralFilter(src,-1,10,3) # color에 대한 sigma값 계산 후 연산 => 연산량이 많은 단점\n",
    "\n",
    "cv2.imshow('dst_gaussian',dst_blur)\n",
    "cv2.imshow('dst_bilateral',dst_bilateral)\n",
    "\n",
    "cv2.waitKey()\n",
    "cv2.destroyAllWindows()"
   ]
  },
  {
   "cell_type": "markdown",
   "metadata": {},
   "source": [
    "# Affine Transform"
   ]
  },
  {
   "cell_type": "code",
   "execution_count": 7,
   "metadata": {},
   "outputs": [],
   "source": [
    "src = cv2.imread(r'C://Users//ir749//Desktop//fig//puppy.bmp')\n",
    "\n",
    "\n",
    "\n",
    "M = np.array([[1,0,200],\n",
    "            [0,1,100]],np.float32)\n",
    "\n",
    "dst = cv2.warpAffine(src, M,(0,0))\n",
    "\n",
    "cv2.imshow('src',src)\n",
    "cv2.imshow('dst',dst)\n",
    "\n",
    "cv2.waitKey()\n",
    "cv2.destroyAllWindows()"
   ]
  },
  {
   "cell_type": "code",
   "execution_count": 25,
   "metadata": {},
   "outputs": [],
   "source": [
    "src = cv2.imread(r'C://Users//ir749//Desktop//fig//puppy.bmp')\n",
    "\n",
    "\n",
    "\n",
    "# M = np.array([[2,0,0],\n",
    "#             [0,2,0]],np.float32)\n",
    "\n",
    "# dst = cv2.warpAffine(src, M,(0,0))\n",
    "x,y,channel = src.shape\n",
    "\n",
    "dst = cv2.resize(src,dsize = (2*x,2*y), interpolation=cv2.INTER_LANCZOS4) #NEARLIST = cv2.INTER_NEARIST, BICUBIC = cv2.INTER_CUBIC\n",
    "\n",
    "cv2.imshow('src',src)\n",
    "cv2.imshow('dst',dst)\n",
    "\n",
    "cv2.waitKey()\n",
    "cv2.destroyAllWindows()"
   ]
  },
  {
   "cell_type": "code",
   "execution_count": 29,
   "metadata": {},
   "outputs": [],
   "source": [
    "src = cv2.imread(r'C://Users//ir749//Desktop//fig//puppy.bmp')\n",
    "\n",
    "rad = 30 * (np.pi/180)\n",
    "\n",
    "M = np.array([[np.cos(rad),np.sin(rad),0],\n",
    "            [-np.sin(rad),np.cos(rad),0]],np.float32)\n",
    "\n",
    "dst = cv2.warpAffine(src, M,(0,0))\n",
    "x,y,channel = src.shape\n",
    "\n",
    "\n",
    "cv2.imshow('src',src)\n",
    "cv2.imshow('dst',dst)\n",
    "\n",
    "cv2.waitKey()\n",
    "cv2.destroyAllWindows()"
   ]
  },
  {
   "cell_type": "code",
   "execution_count": 44,
   "metadata": {},
   "outputs": [],
   "source": [
    "src = cv2.imread(r'C://Users//ir749//Desktop//fig//rose.jpg')\n",
    "x,y,_ = src.shape\n",
    "center = (y/2,x/2)\n",
    "affine = cv2.getRotationMatrix2D(center, 20, 1)\n",
    "\n",
    "dst = cv2.warpAffine(src, affine,(0,0),borderMode = cv2.BORDER_REPLICATE)\n",
    "x,y,channel = src.shape\n",
    "\n",
    "\n",
    "cv2.imshow('src',src)\n",
    "cv2.imshow('dst',dst)\n",
    "\n",
    "cv2.waitKey()\n",
    "cv2.destroyAllWindows()"
   ]
  },
  {
   "cell_type": "code",
   "execution_count": 56,
   "metadata": {},
   "outputs": [],
   "source": [
    "src = cv2.imread(r'C://Users//ir749//Desktop//fig//puppy.bmp')\n",
    "\n",
    "rad = 30 * (np.pi/180)\n",
    "\n",
    "M = np.array([[1,0.2,0],\n",
    "            [0,1,0]],np.float32)\n",
    "x,y,_ = src.shape\n",
    "\n",
    "\n",
    "dst = cv2.warpAffine(src, M,(y+96,x))\n",
    "\n",
    "\n",
    "\n",
    "cv2.imshow('src',src)\n",
    "cv2.imshow('dst',dst)\n",
    "\n",
    "cv2.waitKey()\n",
    "cv2.destroyAllWindows()"
   ]
  },
  {
   "cell_type": "markdown",
   "metadata": {},
   "source": [
    "# Edge Detection\n",
    "\n",
    "## Sobel Filter\n",
    "$$x=\n",
    " \\begin{pmatrix}\n",
    "  -1 & 0 & 1 \\\\\n",
    "  -2 & 0 & 2 \\\\\n",
    "  -1 & 0 & 1 \\\\\n",
    " \\end{pmatrix}\n",
    " y=\n",
    " \\begin{pmatrix}\n",
    "  -1 & -2 & -1\\\\\n",
    "   0 &  0 &  0\\\\\n",
    "   1 &  2 &  1\\\\\n",
    " \\end{pmatrix}$$"
   ]
  },
  {
   "cell_type": "code",
   "execution_count": 79,
   "metadata": {},
   "outputs": [],
   "source": [
    "# use sobel filter\n",
    "\n",
    "src = cv2.imread(r'C://Users//ir749//Desktop//fig//lenna.bmp',cv2.IMREAD_GRAYSCALE)\n",
    "\n",
    "# sobel_dx = np.array([[-1,0,1],\n",
    "#                     [-2,0,2],\n",
    "#                     [-1,0,1]],dtype = np.float32)\n",
    "\n",
    "# sobel_dy = np.array([[-1,-2,-1],\n",
    "#                     [0,0,0],\n",
    "#                     [1,2,1]],dtype = np.float32)\n",
    "\n",
    "# dst_dx = cv2.filter2D(src,-1,sobel_dx, delta = 128)\n",
    "# dst_dy = cv2.filter2D(src,-1,sobel_dy, delta = 128)\n",
    "\n",
    "dx = cv2.Sobel(src,-1,1,0)\n",
    "dy = cv2.Sobel(src,-1,0,1)\n",
    "\n",
    "mag = np.clip(cv2.magnitude(dx.astype(np.float32),dy.astype(np.float32)),0,255).astype(np.uint8)\n",
    "\n",
    "dst = np.zeros(mag.shape[:2],np.uint8)\n",
    "dst[mag>80] = 255\n",
    "\n",
    "cv2.imshow('src',src)\n",
    "# cv2.imshow('dst_dx',dst_dx)\n",
    "# cv2.imshow('dst_dy',dst_dy)\n",
    "cv2.imshow('dx',dx)\n",
    "cv2.imshow('dy',dy)\n",
    "cv2.imshow('mag',mag)\n",
    "cv2.imshow('dst',dst)\n",
    "\n",
    "cv2.waitKey()\n",
    "cv2.destroyAllWindows()"
   ]
  },
  {
   "cell_type": "markdown",
   "metadata": {},
   "source": [
    "## Canny Edge"
   ]
  },
  {
   "cell_type": "code",
   "execution_count": 115,
   "metadata": {},
   "outputs": [],
   "source": [
    "src = cv2.imread(r'C://Users//ir749//Desktop//fig//map.png',cv2.IMREAD_GRAYSCALE)\n",
    "\n",
    "# src = cv2.GaussianBlur(src, (0,0),sigmaX=1)\n",
    "# x,y = 310,550\n",
    "dx = cv2.Sobel(src,-1,1,0)\n",
    "dy = cv2.Sobel(src,-1,0,1)\n",
    "\n",
    "mag = np.clip(cv2.magnitude(dx.astype(np.float32),dy.astype(np.float32)),0,255).astype(np.uint8)\n",
    "\n",
    "dst = np.zeros(mag.shape[:2],np.uint8)\n",
    "dst[mag>100] = 255\n",
    "\n",
    "dst_canny = cv2.Canny(src, 100, 150)\n",
    "\n",
    "# src = cv2.resize(src,(y,x))\n",
    "# dst_canny = cv2.resize(dst_canny,(y,x))\n",
    "cv2.imshow('src',src)\n",
    "# cv2.imshow('dst',dst)\n",
    "cv2.imshow('dst_canny',dst_canny)\n",
    "cv2.waitKey()\n",
    "cv2.destroyAllWindows()\n"
   ]
  },
  {
   "cell_type": "code",
   "execution_count": 2,
   "metadata": {},
   "outputs": [],
   "source": [
    "from cv2 import imshow \n",
    "from cv2 import waitKey as wait\n",
    "from cv2 import destroyAllWindows as destroy"
   ]
  },
  {
   "cell_type": "markdown",
   "metadata": {},
   "source": [
    "# Binary Image"
   ]
  },
  {
   "cell_type": "code",
   "execution_count": 3,
   "metadata": {},
   "outputs": [],
   "source": [
    "src = cv2.imread(r'C://Users//ir749//Desktop//fig//cells.png',cv2.IMREAD_GRAYSCALE)\n",
    "\n",
    "# retval, dst = cv2.threshold(src, 100 ,255, cv2.THRESH_BINARY)\n",
    "# retval2, dst2 = cv2.threshold(src, 200, 255, cv2.THRESH_BINARY_INV)\n",
    "\n",
    "def call_track_bar(pos):\n",
    "    retval, dst = cv2.threshold(src, pos, 255, cv2.THRESH_BINARY)\n",
    "    imshow('dst',dst)\n",
    "\n",
    "imshow('src',src)\n",
    "cv2.namedWindow('dst')\n",
    "cv2.createTrackbar('level','dst', 128, 255, call_track_bar)\n",
    "wait()\n",
    "destroy()"
   ]
  },
  {
   "cell_type": "markdown",
   "metadata": {},
   "source": [
    "### Thresholding use 'otsu' method"
   ]
  },
  {
   "cell_type": "code",
   "execution_count": 9,
   "metadata": {},
   "outputs": [],
   "source": [
    "src = cv2.imread(r'C://Users//ir749//Desktop//fig//rice.png',cv2.IMREAD_GRAYSCALE)\n",
    "\n",
    "thres, dst = cv2.threshold(src, 0, 255,cv2.THRESH_OTSU)\n",
    "\n",
    "## Region Binary Threshold \n",
    "## => Because of 'bias'\n",
    "\n",
    "h,w = src.shape\n",
    "\n",
    "bw = w//4\n",
    "bh = h//4\n",
    "\n",
    "dst2 = np.zeros(src.shape, np.uint8)\n",
    "\n",
    "for y in range(4):\n",
    "    for x in range(4):\n",
    "        src_ = src[y*bh:(y+1)*bh, x*bw:(x+1)*bw]\n",
    "        dst_ = dst2[y*bh:(y+1)*bh, x*bw:(x+1)*bw]\n",
    "        cv2.threshold(src_, 0, 255, cv2.THRESH_OTSU, dst_)\n",
    "\n",
    "imshow('src',src)\n",
    "imshow('dst',dst)\n",
    "imshow('dst2',dst2)\n",
    "\n",
    "wait()\n",
    "destroy()\n",
    "\n",
    "\n"
   ]
  },
  {
   "cell_type": "markdown",
   "metadata": {},
   "source": [
    "# Erosion  Dilation"
   ]
  },
  {
   "cell_type": "code",
   "execution_count": 10,
   "metadata": {},
   "outputs": [],
   "source": [
    "src = cv2.imread(r'C://Users//ir749//Desktop//fig//circuit.bmp',cv2.IMREAD_GRAYSCALE)\n",
    "\n",
    "dilation_kernel = cv2.getStructuringElement(cv2.MORPH_RECT , (3,5) ) # shape : cv2.MORPH_RECT, cv2.MORPH_CROSS, cv2.MORPH_ELLIPSE \n",
    "dilation = cv2.dilate(src, dilation_kernel)\n",
    "\n",
    "erosion_kernel = cv2.getStructuringElement(cv2.MORPH_RECT, (3,5))\n",
    "erosion = cv2.erode(dilation, erosion_kernel)\n",
    "imshow('src',src)\n",
    "imshow('Dilation',dilation)\n",
    "imshow('Erosion',erosion)\n",
    "wait()\n",
    "destroy()\n"
   ]
  },
  {
   "cell_type": "code",
   "execution_count": 18,
   "metadata": {},
   "outputs": [],
   "source": [
    "src = cv2.imread(r'C://Users//ir749//Desktop//fig//rice.png',cv2.IMREAD_GRAYSCALE)\n",
    "\n",
    "thres, dst = cv2.threshold(src, 0, 255,cv2.THRESH_OTSU)\n",
    "\n",
    "## Region Binary Threshold \n",
    "## => Because of 'bias'\n",
    "\n",
    "h,w = src.shape\n",
    "\n",
    "bw = w//4\n",
    "bh = h//4\n",
    "\n",
    "dst1 = np.zeros(src.shape, np.uint8)\n",
    "\n",
    "for y in range(4):\n",
    "    for x in range(4):\n",
    "        src_ = src[y*bh:(y+1)*bh, x*bw:(x+1)*bw]\n",
    "        dst_ = dst1[y*bh:(y+1)*bh, x*bw:(x+1)*bw]\n",
    "        cv2.threshold(src_, 0, 255, cv2.THRESH_OTSU, dst_)\n",
    "        \n",
    "\n",
    "#\n",
    "\n",
    "kernel = cv2.getStructuringElement(cv2.MORPH_RECT , (3,3) ) \n",
    "\n",
    "dst_erode =  cv2.morphologyEx(dst1,cv2.MORPH_ERODE,kernel,None) \n",
    "dst2 = cv2.morphologyEx(dst1,cv2.MORPH_OPEN,kernel,None)    # open : erosion -> dilation\n",
    "\n",
    "\n",
    "imshow('src',src)\n",
    "imshow('dst1',dst1)\n",
    "imshow('dst2',dst2)\n",
    "imshow('erode',dst_erode)\n",
    "\n",
    "wait()\n",
    "destroy()\n",
    "\n"
   ]
  },
  {
   "cell_type": "code",
   "execution_count": 14,
   "metadata": {},
   "outputs": [],
   "source": [
    "src =  cv2.imread(r'C://Users//ir749//Desktop//fig//keyboard.jpg',cv2.IMREAD_GRAYSCALE)\n",
    "\n",
    "kernel = cv2.getStructuringElement(cv2.MORPH_RECT , (3,3) ) \n",
    "\n",
    "def call_track_bar(pos):\n",
    "    retval, dst = cv2.threshold(src, pos, 255, cv2.THRESH_BINARY)\n",
    "    dst_morph = cv2.morphologyEx(dst,cv2.MORPH_OPEN, kernel)\n",
    "    dst = cv2.cvtColor(dst, cv2.COLOR_GRAY2BGR)\n",
    "    cnt, labels, stats, centeroids = cv2.connectedComponentsWithStats(dst_morph, connectivity = 8)\n",
    "    \n",
    "    intersections = find_intersections(stats)\n",
    "\n",
    "    for i in range(0, len(intersections)):\n",
    "         x, y, w, h = intersections[i]\n",
    "\n",
    "         cv2.rectangle(dst, (x,y,w,h), (255, 0, 255), 2)\n",
    "    imshow('image',dst)\n",
    "\n",
    "cv2.namedWindow('image')\n",
    "cv2.createTrackbar('level','image', 0, 255, call_track_bar)\n",
    "\n",
    "\n",
    "wait()\n",
    "destroy()\n"
   ]
  },
  {
   "cell_type": "markdown",
   "metadata": {},
   "source": [
    "### Check Intersection boaxes and Union "
   ]
  },
  {
   "cell_type": "code",
   "execution_count": 13,
   "metadata": {},
   "outputs": [],
   "source": [
    "def find_intersections(stats):\n",
    "    result = []\n",
    "    for i in range(len(stats)):\n",
    "      x, y, w, h, area = stats[i]\n",
    "      if area > 2000:\n",
    "        continue\n",
    "    \n",
    "      intersections = find_inner_intersections(i, (x, y, w, h), stats)\n",
    "      if len(intersections) == 0:\n",
    "        result.append((x, y, w, h))\n",
    "        continue\n",
    "    \n",
    "      for item in intersections:\n",
    "        if item in result:\n",
    "          continue\n",
    "        result.append(item)\n",
    "    return result\n",
    "\n",
    "def contains(value, min, max):\n",
    "  return value >= min and value <= max\n",
    "\n",
    "def is_intersect(a, b):\n",
    "  Ax, Ay, Aw, Ah = a\n",
    "  Bx, By, Bw, Bh = b\n",
    "  \n",
    "  intersect_X = contains(Ax, Bx, Bx + Bw) or contains(Bx, Ax, Ax + Aw)\n",
    "  intersect_Y = contains(Ay, By, By + Bh) or contains(By, Ay, Ay + Ah)\n",
    "\n",
    "  return intersect_X and intersect_Y\n",
    "\n",
    "def find_inner_intersections(cur_idx, point, stats):\n",
    "  intersections = []\n",
    "  for i in range(len(stats)):\n",
    "    if i == cur_idx:\n",
    "      continue\n",
    "    \n",
    "    x, y, w, h, area = stats[i]\n",
    "    if area > 2000:\n",
    "      continue\n",
    "    intersected = is_intersect(point, (x, y, w, h))\n",
    "\n",
    "    if intersected:\n",
    "      X = min(point[0], x)\n",
    "      Y = min(point[1], y)\n",
    "      W = max(point[0] + point[2], x + w) - X\n",
    "      H = max(point[1] + point[3], y + h) - Y\n",
    "      intersections.append((X, Y, W, H))\n",
    "  return intersections"
   ]
  },
  {
   "cell_type": "code",
   "execution_count": null,
   "metadata": {},
   "outputs": [],
   "source": []
  }
 ],
 "metadata": {
  "interpreter": {
   "hash": "9e58c63bc3fa05d4d6dad842ca617a63dd6b79c33e76931ea021a4c56a6ed4e8"
  },
  "kernelspec": {
   "display_name": "Python 3.8.3 32-bit",
   "language": "python",
   "name": "python3"
  },
  "language_info": {
   "codemirror_mode": {
    "name": "ipython",
    "version": 3
   },
   "file_extension": ".py",
   "mimetype": "text/x-python",
   "name": "python",
   "nbconvert_exporter": "python",
   "pygments_lexer": "ipython3",
   "version": "3.8.3"
  },
  "orig_nbformat": 4
 },
 "nbformat": 4,
 "nbformat_minor": 2
}
